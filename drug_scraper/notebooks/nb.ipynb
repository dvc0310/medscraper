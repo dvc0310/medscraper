{
 "cells": [
  {
   "cell_type": "code",
   "execution_count": 9,
   "metadata": {},
   "outputs": [
    {
     "name": "stdout",
     "output_type": "stream",
     "text": [
      "XML content saved to Velsipity_spls.xml\n"
     ]
    }
   ],
   "source": [
    "import requests\n",
    "\n",
    "def get_setid_by_drug_name(drug_name):\n",
    "    url = 'https://dailymed.nlm.nih.gov/dailymed/services/v2/spls.json'\n",
    "    params = {'drug_name': drug_name}\n",
    "    response = requests.get(url, params=params)\n",
    "\n",
    "    if response.status_code == 200 and 'data' in response.json():\n",
    "        # Assuming we take the first result\n",
    "        return response.json()['data'][0]['setid']\n",
    "    else:\n",
    "        print(\"Error in fetching setid:\", response.status_code)\n",
    "        return None\n",
    "\n",
    "def save_xml_content(setid, file_name):\n",
    "    url = f\"https://dailymed.nlm.nih.gov/dailymed/services/v2/spls/{setid}.xml\"\n",
    "    try:\n",
    "        response = requests.get(url)\n",
    "\n",
    "        if response.status_code == 200:\n",
    "            with open(file_name, \"wb\") as file:\n",
    "                file.write(response.content)\n",
    "            print(f\"XML content saved to {file_name}\")\n",
    "        else:\n",
    "            print(f\"Request failed with status code {response.status_code}\")\n",
    "\n",
    "    except requests.exceptions.RequestException as e:\n",
    "        print(f\"An error occurred: {e}\")\n",
    "\n",
    "# Example usage\n",
    "drug_name = \"Velsipity\"  # Replace with your drug name\n",
    "setid = get_setid_by_drug_name(drug_name)\n",
    "if setid:\n",
    "    save_xml_content(setid, f\"{drug_name}_spls.xml\")\n"
   ]
  }
 ],
 "metadata": {
  "kernelspec": {
   "display_name": "Python 3",
   "language": "python",
   "name": "python3"
  },
  "language_info": {
   "codemirror_mode": {
    "name": "ipython",
    "version": 3
   },
   "file_extension": ".py",
   "mimetype": "text/x-python",
   "name": "python",
   "nbconvert_exporter": "python",
   "pygments_lexer": "ipython3",
   "version": "3.9.6"
  }
 },
 "nbformat": 4,
 "nbformat_minor": 2
}
