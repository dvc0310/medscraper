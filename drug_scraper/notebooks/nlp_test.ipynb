{
 "cells": [
  {
   "cell_type": "code",
   "execution_count": 1,
   "metadata": {},
   "outputs": [],
   "source": [
    "import spacy\n",
    "import scispacy\n",
    "from scispacy.linking import EntityLinker\n",
    "import json\n",
    "import numpy as np\n",
    "from drug_utils import DataHandler\n",
    "from tqdm import tqdm\n",
    "import re"
   ]
  },
  {
   "cell_type": "code",
   "execution_count": 2,
   "metadata": {},
   "outputs": [
    {
     "name": "stderr",
     "output_type": "stream",
     "text": [
      "c:\\Users\\sjchu\\.pyenv\\pyenv-win\\versions\\3.9.6\\lib\\site-packages\\spacy\\language.py:2141: FutureWarning: Possible set union at position 6328\n",
      "  deserializers[\"tokenizer\"] = lambda p: self.tokenizer.from_disk(  # type: ignore[union-attr]\n"
     ]
    }
   ],
   "source": [
    "nlp = spacy.load(\"en_core_sci_sm\")\n",
    "nlp.add_pipe(\"scispacy_linker\", config={\"resolve_abbreviations\": True, \"linker_name\": \"umls\"})\n",
    "\n",
    "# Obtain the linker from the pipeline\n",
    "linker = nlp.get_pipe(\"scispacy_linker\")"
   ]
  },
  {
   "cell_type": "code",
   "execution_count": 3,
   "metadata": {},
   "outputs": [],
   "source": [
    "def process_drug(drug, nlp, linker):\n",
    "    drug_name = drug['name']\n",
    "    conditions_and_diseases = []\n",
    "    \n",
    "    # Process each paragraph in the 'side_effects' list for this drug\n",
    "    for uses_text in drug['uses']:\n",
    "        # Process the uses text with the NLP model\n",
    "        doc = nlp(uses_text)\n",
    "\n",
    "        # Iterate over the entities and link them to UMLS\n",
    "        for ent in doc.ents:\n",
    "            kb_ents = ent._.kb_ents\n",
    "            if kb_ents:\n",
    "                cui = kb_ents[0][0]  # Get the top CUI\n",
    "                umls_entity = linker.kb.cui_to_entity[cui]\n",
    "\n",
    "                # Check if the UMLS entity has a relevant semantic type\n",
    "                relevant_types = {\"T047\", \"T048\", \"T184\", \"T037\", \"T046\", \"T061\", \"T060\"}\n",
    "                if any(st in relevant_types for st in umls_entity.types):\n",
    "                    conditions_and_diseases.append(umls_entity.canonical_name)\n",
    "\n",
    "    # Remove duplicates\n",
    "    return list(set(conditions_and_diseases))"
   ]
  },
  {
   "cell_type": "code",
   "execution_count": 4,
   "metadata": {},
   "outputs": [],
   "source": [
    "def process_uses(drugs_data, nlp, linker):\n",
    "    # Initialize dictionary for drug uses\n",
    "    \n",
    "    # Iterate over each drug in the data\n",
    "    for drug in tqdm(drugs_data, desc=\"Processing Drugs\"):\n",
    "        conditions_and_diseases = process_drug(drug, nlp, linker)\n",
    "        drug[\"uses\"] = conditions_and_diseases\n",
    "\n",
    "    return drugs_data"
   ]
  },
  {
   "cell_type": "code",
   "execution_count": 5,
   "metadata": {},
   "outputs": [],
   "source": [
    "# Load the JSON data\n",
    "with open(\"../testing.json\", 'r', encoding='utf-8') as file:\n",
    "    drugs_data = json.load(file)"
   ]
  },
  {
   "cell_type": "code",
   "execution_count": 6,
   "metadata": {},
   "outputs": [
    {
     "name": "stderr",
     "output_type": "stream",
     "text": [
      "Processing Drugs: 100%|██████████| 7878/7878 [27:02<00:00,  4.86it/s]  \n"
     ]
    }
   ],
   "source": [
    "# Process the drug uses\n",
    "drug_semantic_types = {\"T109\", \"T195\", \"T121\"}\n",
    "drugs_data = process_uses(drugs_data, nlp, linker)\n",
    "filtered_drugs_data = [drug for drug in drugs_data if drug['status'] != 'Unknown']\n",
    "with open('data.json', 'w') as json_file:\n",
    "    json.dump(filtered_drugs_data, json_file)"
   ]
  },
  {
   "cell_type": "code",
   "execution_count": null,
   "metadata": {},
   "outputs": [],
   "source": []
  },
  {
   "cell_type": "code",
   "execution_count": 7,
   "metadata": {},
   "outputs": [],
   "source": [
    "dh = DataHandler(\"processed_data2.json\")\n",
    "dh.save_data(filtered_drugs_data)"
   ]
  },
  {
   "cell_type": "code",
   "execution_count": 8,
   "metadata": {},
   "outputs": [],
   "source": [
    "def remove_text_in_parentheses(drug_data):\n",
    "    # Regular expression pattern to find text within parentheses\n",
    "    pattern = r'\\s*\\([^)]*\\)'\n",
    "    for entry in drug_data:\n",
    "        # Remove text within parentheses and any leading/trailing whitespace\n",
    "        entry['name'] = re.sub(pattern, '', entry['name']).strip()\n",
    "    return drug_data"
   ]
  },
  {
   "cell_type": "code",
   "execution_count": 9,
   "metadata": {},
   "outputs": [],
   "source": [
    "cleaned_data = remove_text_in_parentheses(drugs_data)\n",
    "dh.save_data(cleaned_data)"
   ]
  }
 ],
 "metadata": {
  "kernelspec": {
   "display_name": "Python 3",
   "language": "python",
   "name": "python3"
  },
  "language_info": {
   "codemirror_mode": {
    "name": "ipython",
    "version": 3
   },
   "file_extension": ".py",
   "mimetype": "text/x-python",
   "name": "python",
   "nbconvert_exporter": "python",
   "pygments_lexer": "ipython3",
   "version": "3.9.6"
  }
 },
 "nbformat": 4,
 "nbformat_minor": 2
}
