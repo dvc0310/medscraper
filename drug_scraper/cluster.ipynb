{
 "cells": [
  {
   "cell_type": "code",
   "execution_count": null,
   "metadata": {},
   "outputs": [],
   "source": [
    "import json\n",
    "import numpy as np\n",
    "\n",
    "# Open the file and read lines\n",
    "with open('output.json', 'r') as file:\n",
    "    drugs_data = json.load(file)"
   ]
  },
  {
   "cell_type": "code",
   "execution_count": null,
   "metadata": {},
   "outputs": [],
   "source": [
    "class NumpyEncoder(json.JSONEncoder):\n",
    "    def default(self, obj):\n",
    "        if isinstance(obj, np.integer):\n",
    "            return int(obj)\n",
    "        return json.JSONEncoder.default(self, obj)\n",
    "\n",
    "def save_data(filename, data):\n",
    "    with open(filename, 'w') as file:\n",
    "        file.write('[\\n')  # Write the opening bracket of the JSON list\n",
    "        for i, entry in enumerate(data):\n",
    "            # Write each dictionary as a JSON string followed by a comma and newline, except for the last entry\n",
    "            if i < len(data) - 1:\n",
    "                file.write(json.dumps(entry, cls=NumpyEncoder) + ',\\n')\n",
    "            else:\n",
    "                # The last entry should not have a comma at the end\n",
    "                file.write(json.dumps(entry, cls=NumpyEncoder) + '\\n')\n",
    "        file.write(']')  # Write the closing bracket of the JSON list"
   ]
  },
  {
   "cell_type": "code",
   "execution_count": null,
   "metadata": {},
   "outputs": [],
   "source": [
    "import json\n",
    "# Assuming the JSON data is a list of dictionaries\n",
    "# We will use a dictionary to remove duplicates based on a unique key in the dictionaries\n",
    "unique_data = {each_dict['name']: each_dict for each_dict in drugs_data}.values()\n",
    "for idx, drug in enumerate(unique_data):\n",
    "    drug['id'] = idx"
   ]
  },
  {
   "cell_type": "code",
   "execution_count": null,
   "metadata": {},
   "outputs": [],
   "source": [
    "save_data('output2.json', unique_data)"
   ]
  },
  {
   "cell_type": "code",
   "execution_count": null,
   "metadata": {},
   "outputs": [],
   "source": [
    "import re\n",
    "from nltk.corpus import stopwords\n",
    "\n",
    "# Download NLTK stopwords if you haven't already\n",
    "import nltk\n",
    "nltk.download('stopwords')\n",
    "\n",
    "# Define a list of custom stop words (add more if needed)\n",
    "custom_stopwords = [\"and\", \"the\", \"in\", \"with\"]\n",
    "\n",
    "def preprocess_text(text):\n",
    "    # Remove text in parentheses\n",
    "    \n",
    "    text_no_parentheses = re.sub(r'\\s*\\([^)]*\\)', '', text)\n",
    "    \n",
    "    # Remove commas\n",
    "    text_no_commas = text_no_parentheses.replace(',', '')\n",
    "    \n",
    "    # Tokenize the text\n",
    "    words = text_no_commas.split()\n",
    "    \n",
    "    # Remove stop words and custom stop words\n",
    "    cleaned_words = [word for word in words if word.lower() not in set(custom_stopwords)]\n",
    "    \n",
    "    # Join the cleaned words back into a string\n",
    "    cleaned_text = ' '.join(cleaned_words)\n",
    "    if cleaned_text == '':\n",
    "        print(f'{text} was converted to {cleaned_text}')\n",
    "    # Return the cleaned text\n",
    "    return cleaned_text\n"
   ]
  },
  {
   "cell_type": "code",
   "execution_count": null,
   "metadata": {},
   "outputs": [],
   "source": [
    "with open('output2.json', 'r') as file:\n",
    "    drugs_data = json.load(file)"
   ]
  },
  {
   "cell_type": "code",
   "execution_count": null,
   "metadata": {},
   "outputs": [],
   "source": [
    "# Apply preprocessing to drug names\n",
    "combined_features = [str((preprocess_text(drug['name']), drug['drug_classes'])) for drug in drugs_data]\n",
    "# Display the processed names\n",
    "#combined_features.sort()\n",
    "len(combined_features)\n"
   ]
  },
  {
   "cell_type": "code",
   "execution_count": null,
   "metadata": {},
   "outputs": [],
   "source": [
    "combined_features = [re.sub(r\"[()',\\[\\]]\", \"\", entry) for entry in combined_features]\n",
    "combined_features"
   ]
  },
  {
   "cell_type": "code",
   "execution_count": null,
   "metadata": {},
   "outputs": [],
   "source": [
    "def find_drug_id_by_name(drug_name, drugs_data):\n",
    "    for drug in drugs_data:\n",
    "        if drug['name'] == drug_name:\n",
    "            return drug['id']\n",
    "    print('not found')\n",
    "    return None  # or raise an exception, or any other way you prefer to handle not found cases\n",
    "\n",
    "find_drug_id_by_name('', drugs_data)"
   ]
  },
  {
   "cell_type": "code",
   "execution_count": null,
   "metadata": {},
   "outputs": [],
   "source": [
    "from sklearn.feature_extraction.text import TfidfVectorizer\n",
    "from sklearn.cluster import DBSCAN\n",
    "from sklearn.neighbors import NearestNeighbors\n",
    "import matplotlib.pyplot as plt\n",
    "import numpy as np\n",
    "\n",
    "# Step 1: Vectorize the Names\n",
    "vectorizer = TfidfVectorizer()\n",
    "X = vectorizer.fit_transform(combined_features)\n",
    "\n",
    "# Step 2: Find an Appropriate 'eps' Value\n",
    "nearest_neighbors = NearestNeighbors(n_neighbors=2)\n",
    "neighbors = nearest_neighbors.fit(X)\n",
    "distances, indices = neighbors.kneighbors(X)\n",
    "\n",
    "# Sort the distances\n",
    "sorted_distances = np.sort(distances, axis=0)\n",
    "sorted_distances = sorted_distances[:, 1]\n",
    "\n",
    "plt.figure(figsize=(10,5))\n",
    "plt.plot(sorted_distances)\n",
    "plt.xlabel(\"Points\")\n",
    "plt.ylabel(\"Distance\")\n",
    "plt.title(\"Nearest Neighbors Distance\")\n",
    "plt.show()\n",
    "\n",
    "\n"
   ]
  },
  {
   "cell_type": "code",
   "execution_count": null,
   "metadata": {},
   "outputs": [],
   "source": [
    "# You will need to visually identify a suitable 'eps' value from this plot\n",
    "\n",
    "# Step 3: Apply DBSCAN Clustering\n",
    "# Assuming you chose an 'eps' value, for example, 0.3\n",
    "eps_value = .55 # adjust based on your observations\n",
    "dbscan = DBSCAN(eps=eps_value, min_samples=2)  # adjust min_samples as needed\n",
    "clusters = dbscan.fit_predict(X)\n",
    "\n",
    "# Output the cluster assignments\n",
    "for name, cluster in zip(combined_features, clusters):\n",
    "    print(f\"Name: {name}, Cluster: {cluster}\")"
   ]
  },
  {
   "cell_type": "code",
   "execution_count": null,
   "metadata": {},
   "outputs": [],
   "source": [
    "clusters_dict = {}\n",
    "for name, cluster in zip(combined_features, clusters):\n",
    "    if cluster not in clusters_dict:\n",
    "        clusters_dict[cluster] = []\n",
    "    clusters_dict[cluster].append(name)\n",
    "\n",
    "# Now you can print the drugs for each cluster or work with them as needed\n",
    "for cluster, names in clusters_dict.items():\n",
    "    print(f\"Cluster {cluster}: {', '.join(names)}\")"
   ]
  },
  {
   "cell_type": "code",
   "execution_count": null,
   "metadata": {},
   "outputs": [],
   "source": [
    "name_mapping = {entry['name']: name for entry, name in zip(drugs_data, combined_features)}\n",
    "# Add normalized names and cluster assignments to your data\n",
    "for entry, cluster in zip(drugs_data, clusters):\n",
    "    entry['Cluster'] = cluster\n",
    "\n"
   ]
  },
  {
   "cell_type": "code",
   "execution_count": null,
   "metadata": {},
   "outputs": [],
   "source": [
    "save_data('o3.json', drugs_data)"
   ]
  },
  {
   "cell_type": "code",
   "execution_count": null,
   "metadata": {},
   "outputs": [],
   "source": [
    "from collections import defaultdict\n",
    "import json\n",
    "import numpy as np\n",
    "\n",
    "def consolidate_clusters(drugs_data):\n",
    "    # Group Data by Cluster, excluding -1\n",
    "    cluster_groups = defaultdict(list)\n",
    "    for drug in drugs_data:\n",
    "        if drug['Cluster'] != -1:\n",
    "            cluster_groups[drug['Cluster']].append(drug)\n",
    "    \n",
    "    # Consolidate Grouped Data\n",
    "    consolidated_data = []\n",
    "    for cluster, drugs in cluster_groups.items():\n",
    "        if drugs:\n",
    "            # Use the first drug's data as the template\n",
    "            consolidated_entry = drugs[0].copy()\n",
    "            # Replace name with the most common name in the cluster\n",
    "            names = [drug['name'] for drug in drugs]\n",
    "            consolidated_entry['name'] = min(set(names), key=names.count)\n",
    "            # Optionally, combine other attributes here\n",
    "            consolidated_entry['uses'] = list(set(use for drug in drugs for use in drug.get('uses', [])))\n",
    "            consolidated_entry['drug_classes'] = list(set(use for drug in drugs for use in drug.get('drug_classes', [])))\n",
    "            \n",
    "            consolidated_data.append(consolidated_entry)\n",
    "    \n",
    "    # Include the entries with Cluster -1 as they are\n",
    "    consolidated_data.extend(drug for drug in drugs_data if drug['Cluster'] == -1)\n",
    "    \n",
    "    return consolidated_data\n",
    "\n",
    "\n"
   ]
  },
  {
   "cell_type": "code",
   "execution_count": null,
   "metadata": {},
   "outputs": [],
   "source": [
    "# Assuming `drugs_data` is your list of dictionaries with 'Cluster' and 'Drug Name' keys\n",
    "consolidated_drugs_data = consolidate_clusters(drugs_data)\n",
    "cleaned_drug_data = [drug for drug in consolidated_drugs_data if len(drug['uses']) > 0]\n",
    "# Define a JSON encoder subclass to convert numpy integers to Python integers\n",
    "save_data('consolidated_data.json', consolidated_drugs_data)"
   ]
  },
  {
   "cell_type": "code",
   "execution_count": null,
   "metadata": {},
   "outputs": [],
   "source": [
    "cleaned_drug_data = [drug for drug in consolidated_drugs_data if len(drug['uses']) > 0]\n",
    "for drug in cleaned_drug_data:\n",
    "    drug['name'] = re.sub(r\"\\s*\\(.*?\\)\", \"\", drug['name'])\n"
   ]
  },
  {
   "cell_type": "code",
   "execution_count": null,
   "metadata": {},
   "outputs": [],
   "source": [
    "save_data('consolidated_data.json', cleaned_drug_data)"
   ]
  },
  {
   "cell_type": "code",
   "execution_count": null,
   "metadata": {},
   "outputs": [],
   "source": [
    "import spacy\n",
    "import scispacy \n",
    "\n",
    "# Load the scispaCy model\n",
    "nlp = spacy.load(\"en_core_sci_sm\")\n",
    "\n",
    "# Process a sample text\n",
    "text = \"Androgel Testosterone testosterone testosterone alcohol isopropyl myristate water sodium hydroxide CARBOMER HOMOPOLYMER TYPE C (ALLYL PENTAERYTHRITOL CROSSLINKED)\"\n",
    "doc = nlp(text)\n",
    "\n",
    "# Extract entities recognized as DRUG\n",
    "drugs = [ent for ent in doc.ents]\n",
    "for drug in drugs:\n",
    "    print(drug.text)\n",
    "    print(drug.label)\n",
    "\n",
    "\n"
   ]
  },
  {
   "cell_type": "code",
   "execution_count": 1,
   "metadata": {},
   "outputs": [
    {
     "name": "stderr",
     "output_type": "stream",
     "text": [
      "/Users/David/.pyenv/versions/3.9.6/lib/python3.9/site-packages/spacy/language.py:2141: FutureWarning: Possible set union at position 6328\n",
      "  deserializers[\"tokenizer\"] = lambda p: self.tokenizer.from_disk(  # type: ignore[union-attr]\n"
     ]
    },
    {
     "name": "stdout",
     "output_type": "stream",
     "text": [
      "Abbreviation \t Definition\n",
      "SBMA \t (6, 7) Spinal and bulbar muscular atrophy\n",
      "SBMA \t (33, 34) Spinal and bulbar muscular atrophy\n",
      "AR \t (29, 30) androgen receptor\n",
      "ADHD \t (46, 47) Attention deficit Hyperactivity Disorder\n"
     ]
    }
   ],
   "source": [
    "import spacy\n",
    "\n",
    "from scispacy.abbreviation import AbbreviationDetector\n",
    "\n",
    "nlp = spacy.load(\"en_core_sci_md\")\n",
    "\n",
    "# Add the abbreviation pipe to the spacy pipeline.\n",
    "nlp.add_pipe(\"abbreviation_detector\")\n",
    "\n",
    "doc = nlp(\"Spinal and bulbar muscular atrophy (SBMA) is an \\\n",
    "           inherited motor neuron disease caused by the expansion \\\n",
    "           of a polyglutamine tract within the androgen receptor (AR). \\\n",
    "           SBMA can be caused by this easily. Attention Deficit Hyperactivity Disorder (ADHD) is also a problem\")\n",
    "\n",
    "print(\"Abbreviation\", \"\\t\", \"Definition\")\n",
    "for abrv in doc._.abbreviations:\n",
    "\tprint(f\"{abrv} \\t ({abrv.start}, {abrv.end}) {abrv._.long_form}\")\n"
   ]
  },
  {
   "cell_type": "code",
   "execution_count": 4,
   "metadata": {},
   "outputs": [
    {
     "name": "stderr",
     "output_type": "stream",
     "text": [
      "Your CPU supports instructions that this binary was not compiled to use: AVX2\n",
      "For maximum performance, you can install NMSLIB from sources \n",
      "pip install --no-binary :all: nmslib\n"
     ]
    },
    {
     "name": "stdout",
     "output_type": "stream",
     "text": [
      "Name:  bulbar\n",
      "CUI: C1947952, Name: anatomical bulb\n",
      "Definition: A rounded dilation or expansion in a canal, vessel, or organ.\n",
      "TUI(s): T017\n",
      "Aliases: (total: 2): \n",
      "\t Bulbar, Bulb\n",
      "CUI: C0032372, Name: Poliomyelitis, Bulbar\n",
      "Definition: A form of paralytic poliomyelitis affecting neurons of the MEDULLA OBLONGATA of the brain stem. Clinical features include impaired respiration, HYPERTENSION, alterations of vasomotor control, and dysphagia. Weakness and atrophy of the limbs and trunk due to spinal cord involvement is usually associated. (From Adams et al., Principles of Neurology, 6th ed, p765)\n",
      "TUI(s): T047\n",
      "Aliases (abbreviated, total: 23): \n",
      "\t Acute anterior poliomyelitis, Acute infantile paralysis, Bulbar Polio, Medullary Involvement Poliomyelitis, Acute paralytic bulbar poliomyelitis, POLIOMYELITIS, ANTERIOR, ACUTE, Anterior acute poliomyelitis, Polio, Bulbar, acute anterior poliomyelitis, Bulbar Poliomyelitis\n",
      "CUI: C2586323, Name: Structure of fascial sheath of eyeball\n",
      "Definition: Sheath of the eyeball consisting of fascia extending from the OPTIC NERVE to the corneal limbus.\n",
      "TUI(s): T023\n",
      "Aliases (abbreviated, total: 20): \n",
      "\t Tenon's capsule structure, Vaginal bulbi, Fascia bulbi, capsule of tenon, Tenon's Capsule, Structure of fascial sheath of eyeball, Tenon's capsule, Eyeball, sheath, Bulbar sheath, Substantia Propria\n",
      "CUI: C1744560, Name: Bulbar urethra\n",
      "Definition: The portion of the penile urethra that spans the bulb of the penis.\n",
      "TUI(s): T023\n",
      "Aliases: (total: 5): \n",
      "\t Bulbar Portion of the Urethra, Structure of bulbar urethra, Bulbar Urethra, Bulbar urethra, Structure of bulbar urethra (body structure)\n",
      "CUI: C0030442, Name: Progressive bulbar palsy\n",
      "Definition: A motor neuron disease marked by progressive weakness of the muscles innervated by cranial nerves of the lower brain stem. Clinical manifestations include dysarthria, dysphagia, facial weakness, tongue weakness, and fasciculations of the tongue and facial muscles. The adult form of the disease is marked initially by bulbar weakness which progresses to involve motor neurons throughout the neuroaxis. Eventually this condition may become indistinguishable from AMYOTROPHIC LATERAL SCLEROSIS. Fazio-Londe syndrome is an inherited form of this illness which occurs in children and young adults. (Adams et al., Principles of Neurology, 6th ed, p1091; Brain 1992 Dec;115(Pt 6):1889-1900)\n",
      "TUI(s): T047\n",
      "Aliases (abbreviated, total: 13): \n",
      "\t Progressive Bulbar Palsy, Progressive bulbar palsy, bulbar palsy progressive, Bulbar Palsy, Progressive, progressive bulbar palsy, Bulbar Palsies, Progressive, Bulbar palsy, Palsy, Progressive Bulbar, Progressive Bulbar Palsies, PBP - Progressive bulbar palsy\n"
     ]
    }
   ],
   "source": [
    "import spacy\n",
    "import scispacy\n",
    "\n",
    "from scispacy.linking import EntityLinker\n",
    "\n",
    "nlp = spacy.load(\"en_core_sci_sm\")\n",
    "\n",
    "# This line takes a while, because we have to download ~1GB of data\n",
    "# and load a large JSON file (the knowledge base). Be patient!\n",
    "# Thankfully it should be faster after the first time you use it, because\n",
    "# the downloads are cached.\n",
    "# NOTE: The resolve_abbreviations parameter is optional, and requires that\n",
    "# the AbbreviationDetector pipe has already been added to the pipeline. Adding\n",
    "# the AbbreviationDetector pipe and setting resolve_abbreviations to True means\n",
    "# that linking will only be performed on the long form of abbreviations.\n",
    "nlp.add_pipe(\"scispacy_linker\", config={\"resolve_abbreviations\": True, \"linker_name\": \"umls\"})\n",
    "\n",
    "doc = nlp(\"Spinal and bulbar muscular atrophy (SBMA) is an \\\n",
    "           inherited motor neuron disease caused by the expansion \\\n",
    "           of a polyglutamine tract within the androgen receptor (AR). \\\n",
    "           SBMA can be caused by this easily. Attention deficit Hyperactivity Disorder (ADHD) is also a problem\")\n",
    "\n",
    "# Let's look at a random entity!\n",
    "entity = doc.ents[1]\n",
    "\n",
    "print(\"Name: \", entity)\n",
    "# >>> Name: bulbar muscular atrophy\n",
    "\n",
    "# Each entity is linked to UMLS with a score\n",
    "# (currently just char-3gram matching).\n",
    "linker = nlp.get_pipe(\"scispacy_linker\")\n",
    "for umls_ent in entity._.kb_ents:\n",
    "\tprint(linker.kb.cui_to_entity[umls_ent[0]])\n"
   ]
  },
  {
   "cell_type": "code",
   "execution_count": 9,
   "metadata": {},
   "outputs": [
    {
     "name": "stdout",
     "output_type": "stream",
     "text": [
      "Name:  ADHD\n",
      "CUI: C1263846, Name: Attention deficit hyperactivity disorder\n",
      "Definition: A behavior disorder originating in childhood in which the essential features are signs of developmentally inappropriate inattention, impulsivity, and hyperactivity. Although most individuals have symptoms of both inattention and hyperactivity-impulsivity, one or the other pattern may be predominant. The disorder is more frequent in males than females. Onset is in childhood. Symptoms often attenuate during late adolescence although a minority experience the full complement of symptoms into mid-adulthood. (From DSM-V)\n",
      "TUI(s): T048\n",
      "Aliases (abbreviated, total: 67): \n",
      "\t Attention deficit hyperactivity disorder (ADHD), ADHD, ADHD (attention deficit hyperactivity disorder), Deficit-Hyperactivity Disorders, Attention, Attention deficit-hyperactivity disorder (ADHD), Attention deficit hyperactivity disorder, predominantly hyperactive impulsive type (disorder), Hyperkinetic syndrome NOS, Hyperkinetic syndrome of childhood, Attention deficit hyperactivity disorder, hyperactive impulsive type, Unspecified hyperkinetic syndrome\n",
      "CUI: C0268631, Name: succinic semialdehyde dehydrogenase deficiency\n",
      "Definition: A rare neurometabolic disorder of gamma-aminobutyric acid (GABA) metabolism with a nonspecific clinical presentation (ranging from mild to severe) with the most frequent symptoms being cognitive impairment with prominent deficit in expressive language, hypotonia, ataxia, epilepsy, and behavioral dysregulation.\n",
      "TUI(s): T047\n",
      "Aliases (abbreviated, total: 24): \n",
      "\t 4-HYDROXYBUTYRIC ACIDURIA, 4-Hydroxybutyricaciduria, SSADH Deficiency, SSADHD, Gamma-hydroxybutyric acidaemia, Succinate-semialdehyde dehydrogenase deficiency (disorder), GABA METABOLIC DEFECT, SUCCINIC SEMIALDEHYDE DEHYDROGENASE DEFICIENCY, Gamma-hydroxybutyric acidemia, Gamma-Hydroxybutyric Aciduria\n",
      "CUI: C0344247, Name: Horizontal dissociated gaze palsy\n",
      "Definition: A change in horizontal ocular alignment, unrelated to accommodation, that is brought about solely by a change in the balance of visual input from the two eyes. [PMID:18427617]\n",
      "TUI(s): T047\n",
      "Aliases: (total: 8): \n",
      "\t DHD, Horizontal dissociated gaze palsy (disorder), Dissociated Horizontal Deviation, Deviation, Dissociated Horizontal, Dissociated Horizontal Deviations, Dissociated horizontal deviation, Horizontal dissociated gaze palsy, Horizontal Deviation, Dissociated\n",
      "CUI: C1832174, Name: DOYNE HONEYCOMB RETINAL DYSTROPHY\n",
      "Definition: A rare, genetic macular dystrophy disorder characterized by the presence of small yellow-white accumulations of extracellular material under the retinal pigment epithelium in the ocular posterior pole, and affecting multiple members of a family. The disease has a variable clinical presentation ranging from asymptomatic patients to progressive loss of vision and scotomas, possibly associated with subfoveal choroidal neovascularization, extensive pigmentary changes, geographic atrophy and/or subretinal hemorrhage.\n",
      "TUI(s): T047\n",
      "Aliases (abbreviated, total: 13): \n",
      "\t DHD, Doyne honeycomb retinal dystrophy, Dominant drusen (disorder), Dominant drusen, DOYNE HONEYCOMB DEGENERATION OF RETINA, Doyne's honeycomb choroiditis, Hereditary dominant drusen retinal dystrophy, Doyne honeycomb degeneration of retina, Dominant radial drusen, Malattia leventinese\n"
     ]
    }
   ],
   "source": [
    "entity2 = doc.ents[12]\n",
    "print(\"Name: \", entity2)\n",
    "# >>> Name: bulbar muscular atrophy\n",
    "\n",
    "# Each entity is linked to UMLS with a score\n",
    "# (currently just char-3gram matching).\n",
    "for umls_ent in entity2._.kb_ents:\n",
    "\tprint(linker.kb.cui_to_entity[umls_ent[0]])"
   ]
  },
  {
   "cell_type": "code",
   "execution_count": 12,
   "metadata": {},
   "outputs": [
    {
     "name": "stdout",
     "output_type": "stream",
     "text": [
      "Name:  Attention deficit Hyperactivity Disorder\n",
      "CUI: C1263846, Name: Attention deficit hyperactivity disorder\n",
      "Definition: A behavior disorder originating in childhood in which the essential features are signs of developmentally inappropriate inattention, impulsivity, and hyperactivity. Although most individuals have symptoms of both inattention and hyperactivity-impulsivity, one or the other pattern may be predominant. The disorder is more frequent in males than females. Onset is in childhood. Symptoms often attenuate during late adolescence although a minority experience the full complement of symptoms into mid-adulthood. (From DSM-V)\n",
      "TUI(s): T048\n",
      "Aliases (abbreviated, total: 67): \n",
      "\t Attention deficit hyperactivity disorder (ADHD), ADHD, ADHD (attention deficit hyperactivity disorder), Deficit-Hyperactivity Disorders, Attention, Attention deficit-hyperactivity disorder (ADHD), Attention deficit hyperactivity disorder, predominantly hyperactive impulsive type (disorder), Hyperkinetic syndrome NOS, Hyperkinetic syndrome of childhood, Attention deficit hyperactivity disorder, hyperactive impulsive type, Unspecified hyperkinetic syndrome\n",
      "CUI: C0339002, Name: Attention-Deficit/Hyperactivity Disorder, Predominantly Inattentive Type\n",
      "Definition: A mental disorder characterized by inattention, easy distraction, careless mistakes and avoidance of tasks that require sustained mental focus. These behaviors can lead to maladaptive consequences in the affected individual's life.\n",
      "TUI(s): T048\n",
      "Aliases (abbreviated, total: 15): \n",
      "\t Attention deficit disorder of childhood without mention of hyperactivity, Attention deficit disorder without hyperactivity, Attention Deficit Hyperactivity Disorder, Predominantly Inattentive Type, ADD - Attention deficit disorder, Attention deficit without hyperactivity, Attention-Deficit Disorder, Predominantly Inattentive Type, Attention Deficit Hyperactivity Disorder, Inattentive Type, Attention Deficit Disorder, Attention Deficit Hyperactivity Disorder, Inattentive/Distractible Type, Attention deficit hyperactivity disorder, predominantly inattentive type (disorder)\n"
     ]
    }
   ],
   "source": [
    "entity2 = doc.ents[11]\n",
    "print(\"Name: \", entity2)\n",
    "# >>> Name: bulbar muscular atrophy\n",
    "\n",
    "# Each entity is linked to UMLS with a score\n",
    "# (currently just char-3gram matching).\n",
    "for umls_ent in entity2._.kb_ents:\n",
    "\tprint(linker.kb.cui_to_entity[umls_ent[0]])"
   ]
  },
  {
   "cell_type": "code",
   "execution_count": 11,
   "metadata": {},
   "outputs": [
    {
     "data": {
      "text/plain": [
       "(Spinal,\n",
       " bulbar,\n",
       " muscular atrophy,\n",
       " SBMA,\n",
       " inherited,\n",
       " motor neuron,\n",
       " expansion,\n",
       " polyglutamine tract,\n",
       " androgen receptor,\n",
       " AR,\n",
       " SBMA,\n",
       " Attention deficit Hyperactivity Disorder,\n",
       " ADHD,\n",
       " problem)"
      ]
     },
     "execution_count": 11,
     "metadata": {},
     "output_type": "execute_result"
    }
   ],
   "source": [
    "doc.ents"
   ]
  },
  {
   "cell_type": "code",
   "execution_count": 15,
   "metadata": {},
   "outputs": [
    {
     "name": "stdout",
     "output_type": "stream",
     "text": [
      "Name:  ADHD\n",
      "CUI: C1263846, Name: Attention deficit hyperactivity disorder\n",
      "Definition: A behavior disorder originating in childhood in which the essential features are signs of developmentally inappropriate inattention, impulsivity, and hyperactivity. Although most individuals have symptoms of both inattention and hyperactivity-impulsivity, one or the other pattern may be predominant. The disorder is more frequent in males than females. Onset is in childhood. Symptoms often attenuate during late adolescence although a minority experience the full complement of symptoms into mid-adulthood. (From DSM-V)\n",
      "TUI(s): T048\n",
      "Aliases (abbreviated, total: 67): \n",
      "\t Attention deficit hyperactivity disorder (ADHD), ADHD, ADHD (attention deficit hyperactivity disorder), Deficit-Hyperactivity Disorders, Attention, Attention deficit-hyperactivity disorder (ADHD), Attention deficit hyperactivity disorder, predominantly hyperactive impulsive type (disorder), Hyperkinetic syndrome NOS, Hyperkinetic syndrome of childhood, Attention deficit hyperactivity disorder, hyperactive impulsive type, Unspecified hyperkinetic syndrome\n",
      "CUI: C0268631, Name: succinic semialdehyde dehydrogenase deficiency\n",
      "Definition: A rare neurometabolic disorder of gamma-aminobutyric acid (GABA) metabolism with a nonspecific clinical presentation (ranging from mild to severe) with the most frequent symptoms being cognitive impairment with prominent deficit in expressive language, hypotonia, ataxia, epilepsy, and behavioral dysregulation.\n",
      "TUI(s): T047\n",
      "Aliases (abbreviated, total: 24): \n",
      "\t 4-HYDROXYBUTYRIC ACIDURIA, 4-Hydroxybutyricaciduria, SSADH Deficiency, SSADHD, Gamma-hydroxybutyric acidaemia, Succinate-semialdehyde dehydrogenase deficiency (disorder), GABA METABOLIC DEFECT, SUCCINIC SEMIALDEHYDE DEHYDROGENASE DEFICIENCY, Gamma-hydroxybutyric acidemia, Gamma-Hydroxybutyric Aciduria\n",
      "CUI: C0344247, Name: Horizontal dissociated gaze palsy\n",
      "Definition: A change in horizontal ocular alignment, unrelated to accommodation, that is brought about solely by a change in the balance of visual input from the two eyes. [PMID:18427617]\n",
      "TUI(s): T047\n",
      "Aliases: (total: 8): \n",
      "\t DHD, Horizontal dissociated gaze palsy (disorder), Dissociated Horizontal Deviation, Deviation, Dissociated Horizontal, Dissociated Horizontal Deviations, Dissociated horizontal deviation, Horizontal dissociated gaze palsy, Horizontal Deviation, Dissociated\n",
      "CUI: C1832174, Name: DOYNE HONEYCOMB RETINAL DYSTROPHY\n",
      "Definition: A rare, genetic macular dystrophy disorder characterized by the presence of small yellow-white accumulations of extracellular material under the retinal pigment epithelium in the ocular posterior pole, and affecting multiple members of a family. The disease has a variable clinical presentation ranging from asymptomatic patients to progressive loss of vision and scotomas, possibly associated with subfoveal choroidal neovascularization, extensive pigmentary changes, geographic atrophy and/or subretinal hemorrhage.\n",
      "TUI(s): T047\n",
      "Aliases (abbreviated, total: 13): \n",
      "\t DHD, Doyne honeycomb retinal dystrophy, Dominant drusen (disorder), Dominant drusen, DOYNE HONEYCOMB DEGENERATION OF RETINA, Doyne's honeycomb choroiditis, Hereditary dominant drusen retinal dystrophy, Doyne honeycomb degeneration of retina, Dominant radial drusen, Malattia leventinese\n",
      "Name:  problem\n",
      "CUI: C0033213, Name: Problem\n",
      "Definition: A difficulty, disorder, or condition needing resolution.\n",
      "TUI(s): T033\n",
      "Aliases: (total: 5): \n",
      "\t Problem (finding), Problem, NOS, problem, Problem, Issue\n",
      "CUI: C3854081, Name: Problem:Find:Pt:^Patient:Nom\n",
      "Definition: None\n",
      "TUI(s): T201\n",
      "Aliases: (total: 3): \n",
      "\t Problem:Finding:To identify measures at a point in time:^Patient:Nominal, Problem:Find:Pt:^Patient:Nom, Problem\n",
      "CUI: C1553895, Name: problem list - observation\n",
      "Definition: <p>List of problem observations.</p>\n",
      "TUI(s): T170\n",
      "Aliases: (total: 1): \n",
      "\t problem list\n",
      "CUI: C0260662, Name: Hearing problem\n",
      "Definition: Conditions that impair the transmission of auditory impulses and information from the level of the ear to the temporal cortices, including the sensorineural pathways.\n",
      "TUI(s): T033\n",
      "Aliases (abbreviated, total: 32): \n",
      "\t Hearing Disorders, Hearing problem (finding), Hearing disorder (disorder), hearing disorders, Disorder of auditory system, Disorder of auditory system (disorder), auditory effects, Auditory dysfunction, auditory system disorder, auditory disorders\n"
     ]
    }
   ],
   "source": [
    "doc = nlp(\"I have ADHD. It's a huge problem\")\n",
    "\n",
    "\n",
    "for i in range(len(doc.ents)):\n",
    "    # Let's look at a random entity!\n",
    "    entity = doc.ents[i]\n",
    "\n",
    "    print(\"Name: \", entity)\n",
    "    # >>> Name: bulbar muscular atrophy\n",
    "\n",
    "    # Each entity is linked to UMLS with a score\n",
    "    # (currently just char-3gram matching).\n",
    "    for umls_ent in entity._.kb_ents:\n",
    "        print(linker.kb.cui_to_entity[umls_ent[0]])"
   ]
  }
 ],
 "metadata": {
  "kernelspec": {
   "display_name": "Python 3",
   "language": "python",
   "name": "python3"
  },
  "language_info": {
   "codemirror_mode": {
    "name": "ipython",
    "version": 3
   },
   "file_extension": ".py",
   "mimetype": "text/x-python",
   "name": "python",
   "nbconvert_exporter": "python",
   "pygments_lexer": "ipython3",
   "version": "3.9.6"
  }
 },
 "nbformat": 4,
 "nbformat_minor": 2
}
